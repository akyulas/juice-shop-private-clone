{
 "cells": [
  {
   "cell_type": "code",
   "execution_count": 97,
   "id": "48c613bc",
   "metadata": {},
   "outputs": [],
   "source": [
    "import pandas as pd\n",
    "from sklearn.feature_extraction.text import TfidfVectorizer\n",
    "from sklearn.model_selection import cross_val_score, StratifiedKFold\n",
    "from sklearn.pipeline import Pipeline\n",
    "from sklearn.metrics import recall_score, accuracy_score, f1_score, confusion_matrix\n",
    "from sklearn.linear_model import LogisticRegression\n",
    "import matplotlib.pyplot as plt\n",
    "import numpy as np\n",
    "import joblib\n",
    "import seaborn as sns"
   ]
  },
  {
   "cell_type": "code",
   "execution_count": 85,
   "id": "122e9582",
   "metadata": {},
   "outputs": [],
   "source": [
    "#! pip install --user imblearn\n",
    "# Use to download packages"
   ]
  },
  {
   "cell_type": "code",
   "execution_count": 86,
   "id": "01a131a3",
   "metadata": {},
   "outputs": [
    {
     "name": "stdout",
     "output_type": "stream",
     "text": [
      "dataset/SQLiV3.csv\n"
     ]
    }
   ],
   "source": [
    "import os\n",
    "for dirname, _, filenames in os.walk('dataset/'):\n",
    "    for filename in filenames:\n",
    "        print(os.path.join(dirname, filename))"
   ]
  },
  {
   "cell_type": "code",
   "execution_count": 87,
   "id": "ee58e114",
   "metadata": {},
   "outputs": [
    {
     "data": {
      "text/html": [
       "<div>\n",
       "<style scoped>\n",
       "    .dataframe tbody tr th:only-of-type {\n",
       "        vertical-align: middle;\n",
       "    }\n",
       "\n",
       "    .dataframe tbody tr th {\n",
       "        vertical-align: top;\n",
       "    }\n",
       "\n",
       "    .dataframe thead th {\n",
       "        text-align: right;\n",
       "    }\n",
       "</style>\n",
       "<table border=\"1\" class=\"dataframe\">\n",
       "  <thead>\n",
       "    <tr style=\"text-align: right;\">\n",
       "      <th></th>\n",
       "      <th>index</th>\n",
       "      <th>Sentence</th>\n",
       "      <th>Label</th>\n",
       "    </tr>\n",
       "  </thead>\n",
       "  <tbody>\n",
       "    <tr>\n",
       "      <th>0</th>\n",
       "      <td>0</td>\n",
       "      <td>true, $where: '1 == 1'</td>\n",
       "      <td>1</td>\n",
       "    </tr>\n",
       "    <tr>\n",
       "      <th>1</th>\n",
       "      <td>1</td>\n",
       "      <td>$where: '1 == 1'</td>\n",
       "      <td>1</td>\n",
       "    </tr>\n",
       "    <tr>\n",
       "      <th>2</th>\n",
       "      <td>2</td>\n",
       "      <td>, $where: '1 == 1'</td>\n",
       "      <td>1</td>\n",
       "    </tr>\n",
       "    <tr>\n",
       "      <th>3</th>\n",
       "      <td>3</td>\n",
       "      <td>{ $ne: 1 }</td>\n",
       "      <td>1</td>\n",
       "    </tr>\n",
       "    <tr>\n",
       "      <th>4</th>\n",
       "      <td>4</td>\n",
       "      <td>, $or: [ {}, { 'a':'a</td>\n",
       "      <td>1</td>\n",
       "    </tr>\n",
       "    <tr>\n",
       "      <th>5</th>\n",
       "      <td>5</td>\n",
       "      <td>;sleep(5000);</td>\n",
       "      <td>1</td>\n",
       "    </tr>\n",
       "    <tr>\n",
       "      <th>6</th>\n",
       "      <td>6</td>\n",
       "      <td>;return 'a'=='a' &amp;&amp; ''=='</td>\n",
       "      <td>1</td>\n",
       "    </tr>\n",
       "    <tr>\n",
       "      <th>7</th>\n",
       "      <td>7</td>\n",
       "      <td>\";return(true);var xyz='a</td>\n",
       "      <td>1</td>\n",
       "    </tr>\n",
       "    <tr>\n",
       "      <th>8</th>\n",
       "      <td>8</td>\n",
       "      <td>0;return true</td>\n",
       "      <td>1</td>\n",
       "    </tr>\n",
       "    <tr>\n",
       "      <th>9</th>\n",
       "      <td>9</td>\n",
       "      <td>|| 1==1</td>\n",
       "      <td>1</td>\n",
       "    </tr>\n",
       "  </tbody>\n",
       "</table>\n",
       "</div>"
      ],
      "text/plain": [
       "   index                   Sentence  Label\n",
       "0      0     true, $where: '1 == 1'      1\n",
       "1      1           $where: '1 == 1'      1\n",
       "2      2         , $where: '1 == 1'      1\n",
       "3      3                 { $ne: 1 }      1\n",
       "4      4     , $or: [ {}, { 'a':'a       1\n",
       "5      5              ;sleep(5000);      1\n",
       "6      6  ;return 'a'=='a' && ''=='      1\n",
       "7      7  \";return(true);var xyz='a      1\n",
       "8      8              0;return true      1\n",
       "9      9                    || 1==1      1"
      ]
     },
     "execution_count": 87,
     "metadata": {},
     "output_type": "execute_result"
    }
   ],
   "source": [
    "df = pd.read_csv('dataset/SQLiV3.csv', encoding='utf-8') # Read the dataset.\n",
    "del df['Unnamed: 2']\n",
    "del df['Unnamed: 3']\n",
    "df = df.dropna() # Remove Nan values.\n",
    "df = df.drop(df[(df['Label'] != '0') & (df['Label'] != '1')].index) # Dropping the label values, that are different from 0 or 1.\n",
    "df = df.reset_index()\n",
    "df['Label'] = df['Label'].astype('int')\n",
    "df.head(10)"
   ]
  },
  {
   "cell_type": "code",
   "execution_count": 88,
   "id": "1cd78680",
   "metadata": {},
   "outputs": [
    {
     "name": "stdout",
     "output_type": "stream",
     "text": [
      "<class 'pandas.core.frame.DataFrame'>\n",
      "RangeIndex: 30631 entries, 0 to 30630\n",
      "Data columns (total 3 columns):\n",
      " #   Column    Non-Null Count  Dtype \n",
      "---  ------    --------------  ----- \n",
      " 0   index     30631 non-null  int64 \n",
      " 1   Sentence  30631 non-null  object\n",
      " 2   Label     30631 non-null  int32 \n",
      "dtypes: int32(1), int64(1), object(1)\n",
      "memory usage: 598.4+ KB\n"
     ]
    }
   ],
   "source": [
    "df.info()"
   ]
  },
  {
   "cell_type": "code",
   "execution_count": 89,
   "id": "7ccdd46d",
   "metadata": {},
   "outputs": [
    {
     "data": {
      "image/png": "[encoded data removed]",
      "text/plain": [
       "<Figure size 1200x800 with 2 Axes>"
      ]
     },
     "metadata": {},
     "output_type": "display_data"
    }
   ],
   "source": [
    "f,ax=plt.subplots(1,2,figsize=(12,8))\n",
    "df['Label'].value_counts().plot.pie(explode=[0,0.1],autopct='%1.1f%%',ax=ax[0],shadow=True, wedgeprops={'alpha':0.2})\n",
    "\n",
    "\n",
    "ax[0].set_title('Label')\n",
    "ax[0].set_ylabel('')\n",
    "\n",
    "sns.countplot(df,x='Label',ax=ax[1], alpha=0.5)\n",
    "ax[1].set_title('Label')\n",
    "plt.show()"
   ]
  },
  {
   "cell_type": "code",
   "execution_count": 90,
   "id": "5450035c",
   "metadata": {},
   "outputs": [],
   "source": [
    "tfidf_transformer = TfidfVectorizer(\n",
    "    ngram_range=(1, 3),\n",
    "    analyzer='word',\n",
    "    lowercase=True,\n",
    "    max_features=50000,\n",
    "    stop_words=None\n",
    ")\n",
    "\n",
    "logreg = LogisticRegression(\n",
    "    C=100,\n",
    "    solver='liblinear',\n",
    "    max_iter=500\n",
    ")\n",
    "\n",
    "model = Pipeline([\n",
    " #   ('smote', smote),\n",
    "    ('tfidf', tfidf_transformer), \n",
    "    ('logit', logreg)\n",
    "])"
   ]
  },
  {
   "cell_type": "code",
   "execution_count": 91,
   "id": "83e62f0a",
   "metadata": {},
   "outputs": [],
   "source": [
    "skf = StratifiedKFold(n_splits=10, shuffle=True, random_state=11)\n",
    "X = df['Sentence'].copy()\n",
    "y = df['Label'].copy()"
   ]
  },
  {
   "cell_type": "code",
   "execution_count": 92,
   "id": "55c90e62",
   "metadata": {},
   "outputs": [
    {
     "name": "stdout",
     "output_type": "stream",
     "text": [
      "1 of KFold 10\n",
      "Confusion matrix\n",
      " [[1913   14]\n",
      " [  17 1120]]\n",
      "recall score: 0.9850483729111698\n",
      "2 of KFold 10\n",
      "Confusion matrix\n",
      " [[1914   12]\n",
      " [  20 1117]]\n",
      "recall score: 0.9824098504837291\n",
      "3 of KFold 10\n",
      "Confusion matrix\n",
      " [[1912   14]\n",
      " [  13 1124]]\n",
      "recall score: 0.9885664028144239\n",
      "4 of KFold 10\n",
      "Confusion matrix\n",
      " [[1917   10]\n",
      " [  19 1117]]\n",
      "recall score: 0.983274647887324\n",
      "5 of KFold 10\n",
      "Confusion matrix\n",
      " [[1909   18]\n",
      " [  20 1116]]\n",
      "recall score: 0.9823943661971831\n",
      "6 of KFold 10\n",
      "Confusion matrix\n",
      " [[1914   13]\n",
      " [  26 1110]]\n",
      "recall score: 0.977112676056338\n",
      "7 of KFold 10\n",
      "Confusion matrix\n",
      " [[1916   11]\n",
      " [  12 1124]]\n",
      "recall score: 0.9894366197183099\n",
      "8 of KFold 10\n",
      "Confusion matrix\n",
      " [[1914   13]\n",
      " [  24 1112]]\n",
      "recall score: 0.9788732394366197\n",
      "9 of KFold 10\n",
      "Confusion matrix\n",
      " [[1913   14]\n",
      " [  14 1122]]\n",
      "recall score: 0.9876760563380281\n",
      "10 of KFold 10\n",
      "Confusion matrix\n",
      " [[1917   10]\n",
      " [  12 1124]]\n",
      "recall score: 0.9894366197183099\n"
     ]
    }
   ],
   "source": [
    "i=1\n",
    "cv_score=[]\n",
    "for train_index, test_index in skf.split(X, y):\n",
    "    print(f'{i} of KFold {skf.n_splits}')\n",
    "    xtr,xvl = X.loc[train_index],X.loc[test_index]\n",
    "    ytr,yvl = y.loc[train_index],y.loc[test_index]\n",
    "    model = Pipeline([\n",
    " #   ('smote', smote),\n",
    "    ('tfidf', tfidf_transformer), \n",
    "    ('logit', logreg)\n",
    "    ])\n",
    "    model.fit(xtr,ytr)\n",
    "    score = recall_score(yvl,model.predict(xvl))\n",
    "    print('Confusion matrix\\n',confusion_matrix(yvl,model.predict(xvl)))\n",
    "    print(f'recall score: {score}')\n",
    "    cv_score.append(score)    \n",
    "    i+=1"
   ]
  },
  {
   "cell_type": "code",
   "execution_count": 93,
   "id": "a5e7f4fe",
   "metadata": {},
   "outputs": [
    {
     "data": {
      "text/plain": [
       "0.9844228851561436"
      ]
     },
     "execution_count": 93,
     "metadata": {},
     "output_type": "execute_result"
    }
   ],
   "source": [
    "np.mean(cv_score)"
   ]
  },
  {
   "cell_type": "code",
   "execution_count": 94,
   "id": "197084ab",
   "metadata": {},
   "outputs": [
    {
     "data": {
      "text/plain": [
       "array([1])"
      ]
     },
     "execution_count": 94,
     "metadata": {},
     "output_type": "execute_result"
    }
   ],
   "source": [
    "model.predict(['{ $ne : -1 }'])"
   ]
  },
  {
   "cell_type": "code",
   "execution_count": 98,
   "id": "bf2f1560",
   "metadata": {},
   "outputs": [
    {
     "data": {
      "text/plain": [
       "['LRModel.pkl']"
      ]
     },
     "execution_count": 98,
     "metadata": {},
     "output_type": "execute_result"
    }
   ],
   "source": [
    "joblib.dump(model, 'LRModel.pkl')"
   ]
  },
  {
   "cell_type": "code",
   "execution_count": null,
   "id": "be47febf",
   "metadata": {},
   "outputs": [],
   "source": []
  }
 ],
 "metadata": {
  "kernelspec": {
   "display_name": "Python 3 (ipykernel)",
   "language": "python",
   "name": "python3"
  },
  "language_info": {
   "codemirror_mode": {
    "name": "ipython",
    "version": 3
   },
   "file_extension": ".py",
   "mimetype": "text/x-python",
   "name": "python",
   "nbconvert_exporter": "python",
   "pygments_lexer": "ipython3",
   "version": "3.10.0"
  }
 },
 "nbformat": 4,
 "nbformat_minor": 5
}
